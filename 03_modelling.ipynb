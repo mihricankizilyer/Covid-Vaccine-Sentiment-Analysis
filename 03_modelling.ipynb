{
  "cells": [
    {
      "cell_type": "markdown",
      "source": [
        "### Modelling"
      ],
      "metadata": {
        "id": "w5AFbIgYx-8X"
      }
    },
    {
      "cell_type": "code",
      "execution_count": 1,
      "metadata": {
        "id": "K0FuUPGDhbiy"
      },
      "outputs": [],
      "source": [
        "\n",
        "import numpy as np\n",
        "import pandas as pd\n",
        "\n",
        "import matplotlib.pyplot as plt\n",
        "import seaborn as sns\n",
        "\n",
        "from nltk.corpus import stopwords\n",
        "from sklearn.feature_extraction.text import TfidfVectorizer\n",
        "\n",
        "from textblob import Word, TextBlob\n",
        "from wordcloud import WordCloud\n",
        "from sklearn.preprocessing import LabelEncoder, OneHotEncoder\n",
        "from sklearn.tree import DecisionTreeClassifier\n",
        "from sklearn.linear_model import LogisticRegression\n",
        "from sklearn.ensemble import RandomForestClassifier, VotingClassifier\n",
        "from sklearn.svm import SVC\n",
        "import sklearn.metrics as metrics\n",
        "from sklearn.metrics import accuracy_score, roc_auc_score, confusion_matrix, classification_report, \\\n",
        "    plot_roc_curve, precision_score, recall_score, f1_score\n",
        "from sklearn.model_selection import train_test_split\n",
        "\n",
        "from warnings import filterwarnings\n",
        "\n",
        "filterwarnings('ignore')\n",
        "pd.set_option('display.max_columns', None)\n",
        "pd.set_option('display.width', 200)\n",
        "pd.set_option('display.float_format', lambda x: '%.2f' % x)"
      ]
    },
    {
      "cell_type": "code",
      "execution_count": 2,
      "metadata": {
        "id": "3e5zZ_5eijMY"
      },
      "outputs": [],
      "source": [
        "df_ = pd.read_csv(\"sentiment_label_data.csv\")"
      ]
    },
    {
      "cell_type": "code",
      "source": [
        "df_.dropna(inplace = True)"
      ],
      "metadata": {
        "id": "yJzW7JXGvFGD"
      },
      "execution_count": 3,
      "outputs": []
    },
    {
      "cell_type": "code",
      "execution_count": 4,
      "metadata": {
        "id": "F5lpmfV8hx6_"
      },
      "outputs": [],
      "source": [
        "df = df_.copy()\n",
        "df = df[[\"user_location\",\"date\",\"text\",\"polarity_score\",\"sentiment_label\"]]"
      ]
    },
    {
      "cell_type": "code",
      "execution_count": 5,
      "metadata": {
        "id": "HMCjwPpvie0y",
        "colab": {
          "base_uri": "https://localhost:8080/",
          "height": 206
        },
        "outputId": "8ed523bd-2e95-45b9-9fbc-8642893dafe9"
      },
      "outputs": [
        {
          "output_type": "execute_result",
          "data": {
            "text/plain": [
              "   user_location        date                                               text  polarity_score sentiment_label\n",
              "0  United States  2020-12-08  removed cfo chieffinancialofficer wonder makin...            0.00         neutral\n",
              "1  United States  2020-12-08  one trusting gate amp fauci amp mandate yall b...            0.68        positive\n",
              "2          India  2020-12-08  putin daughter vaccinated first approved vacci...            0.42        positive\n",
              "3          India  2020-12-08  marketwatch putin daughter vaccinated st appro...            0.42        positive\n",
              "4          India  2020-12-08  abc debrobertsabc natgeo putin daughter vaccin...            0.42        positive"
            ],
            "text/html": [
              "\n",
              "  <div id=\"df-c7837815-0855-4a61-bcac-498273b3d2e9\">\n",
              "    <div class=\"colab-df-container\">\n",
              "      <div>\n",
              "<style scoped>\n",
              "    .dataframe tbody tr th:only-of-type {\n",
              "        vertical-align: middle;\n",
              "    }\n",
              "\n",
              "    .dataframe tbody tr th {\n",
              "        vertical-align: top;\n",
              "    }\n",
              "\n",
              "    .dataframe thead th {\n",
              "        text-align: right;\n",
              "    }\n",
              "</style>\n",
              "<table border=\"1\" class=\"dataframe\">\n",
              "  <thead>\n",
              "    <tr style=\"text-align: right;\">\n",
              "      <th></th>\n",
              "      <th>user_location</th>\n",
              "      <th>date</th>\n",
              "      <th>text</th>\n",
              "      <th>polarity_score</th>\n",
              "      <th>sentiment_label</th>\n",
              "    </tr>\n",
              "  </thead>\n",
              "  <tbody>\n",
              "    <tr>\n",
              "      <th>0</th>\n",
              "      <td>United States</td>\n",
              "      <td>2020-12-08</td>\n",
              "      <td>removed cfo chieffinancialofficer wonder makin...</td>\n",
              "      <td>0.00</td>\n",
              "      <td>neutral</td>\n",
              "    </tr>\n",
              "    <tr>\n",
              "      <th>1</th>\n",
              "      <td>United States</td>\n",
              "      <td>2020-12-08</td>\n",
              "      <td>one trusting gate amp fauci amp mandate yall b...</td>\n",
              "      <td>0.68</td>\n",
              "      <td>positive</td>\n",
              "    </tr>\n",
              "    <tr>\n",
              "      <th>2</th>\n",
              "      <td>India</td>\n",
              "      <td>2020-12-08</td>\n",
              "      <td>putin daughter vaccinated first approved vacci...</td>\n",
              "      <td>0.42</td>\n",
              "      <td>positive</td>\n",
              "    </tr>\n",
              "    <tr>\n",
              "      <th>3</th>\n",
              "      <td>India</td>\n",
              "      <td>2020-12-08</td>\n",
              "      <td>marketwatch putin daughter vaccinated st appro...</td>\n",
              "      <td>0.42</td>\n",
              "      <td>positive</td>\n",
              "    </tr>\n",
              "    <tr>\n",
              "      <th>4</th>\n",
              "      <td>India</td>\n",
              "      <td>2020-12-08</td>\n",
              "      <td>abc debrobertsabc natgeo putin daughter vaccin...</td>\n",
              "      <td>0.42</td>\n",
              "      <td>positive</td>\n",
              "    </tr>\n",
              "  </tbody>\n",
              "</table>\n",
              "</div>\n",
              "      <button class=\"colab-df-convert\" onclick=\"convertToInteractive('df-c7837815-0855-4a61-bcac-498273b3d2e9')\"\n",
              "              title=\"Convert this dataframe to an interactive table.\"\n",
              "              style=\"display:none;\">\n",
              "        \n",
              "  <svg xmlns=\"http://www.w3.org/2000/svg\" height=\"24px\"viewBox=\"0 0 24 24\"\n",
              "       width=\"24px\">\n",
              "    <path d=\"M0 0h24v24H0V0z\" fill=\"none\"/>\n",
              "    <path d=\"M18.56 5.44l.94 2.06.94-2.06 2.06-.94-2.06-.94-.94-2.06-.94 2.06-2.06.94zm-11 1L8.5 8.5l.94-2.06 2.06-.94-2.06-.94L8.5 2.5l-.94 2.06-2.06.94zm10 10l.94 2.06.94-2.06 2.06-.94-2.06-.94-.94-2.06-.94 2.06-2.06.94z\"/><path d=\"M17.41 7.96l-1.37-1.37c-.4-.4-.92-.59-1.43-.59-.52 0-1.04.2-1.43.59L10.3 9.45l-7.72 7.72c-.78.78-.78 2.05 0 2.83L4 21.41c.39.39.9.59 1.41.59.51 0 1.02-.2 1.41-.59l7.78-7.78 2.81-2.81c.8-.78.8-2.07 0-2.86zM5.41 20L4 18.59l7.72-7.72 1.47 1.35L5.41 20z\"/>\n",
              "  </svg>\n",
              "      </button>\n",
              "      \n",
              "  <style>\n",
              "    .colab-df-container {\n",
              "      display:flex;\n",
              "      flex-wrap:wrap;\n",
              "      gap: 12px;\n",
              "    }\n",
              "\n",
              "    .colab-df-convert {\n",
              "      background-color: #E8F0FE;\n",
              "      border: none;\n",
              "      border-radius: 50%;\n",
              "      cursor: pointer;\n",
              "      display: none;\n",
              "      fill: #1967D2;\n",
              "      height: 32px;\n",
              "      padding: 0 0 0 0;\n",
              "      width: 32px;\n",
              "    }\n",
              "\n",
              "    .colab-df-convert:hover {\n",
              "      background-color: #E2EBFA;\n",
              "      box-shadow: 0px 1px 2px rgba(60, 64, 67, 0.3), 0px 1px 3px 1px rgba(60, 64, 67, 0.15);\n",
              "      fill: #174EA6;\n",
              "    }\n",
              "\n",
              "    [theme=dark] .colab-df-convert {\n",
              "      background-color: #3B4455;\n",
              "      fill: #D2E3FC;\n",
              "    }\n",
              "\n",
              "    [theme=dark] .colab-df-convert:hover {\n",
              "      background-color: #434B5C;\n",
              "      box-shadow: 0px 1px 3px 1px rgba(0, 0, 0, 0.15);\n",
              "      filter: drop-shadow(0px 1px 2px rgba(0, 0, 0, 0.3));\n",
              "      fill: #FFFFFF;\n",
              "    }\n",
              "  </style>\n",
              "\n",
              "      <script>\n",
              "        const buttonEl =\n",
              "          document.querySelector('#df-c7837815-0855-4a61-bcac-498273b3d2e9 button.colab-df-convert');\n",
              "        buttonEl.style.display =\n",
              "          google.colab.kernel.accessAllowed ? 'block' : 'none';\n",
              "\n",
              "        async function convertToInteractive(key) {\n",
              "          const element = document.querySelector('#df-c7837815-0855-4a61-bcac-498273b3d2e9');\n",
              "          const dataTable =\n",
              "            await google.colab.kernel.invokeFunction('convertToInteractive',\n",
              "                                                     [key], {});\n",
              "          if (!dataTable) return;\n",
              "\n",
              "          const docLinkHtml = 'Like what you see? Visit the ' +\n",
              "            '<a target=\"_blank\" href=https://colab.research.google.com/notebooks/data_table.ipynb>data table notebook</a>'\n",
              "            + ' to learn more about interactive tables.';\n",
              "          element.innerHTML = '';\n",
              "          dataTable['output_type'] = 'display_data';\n",
              "          await google.colab.output.renderOutput(dataTable, element);\n",
              "          const docLink = document.createElement('div');\n",
              "          docLink.innerHTML = docLinkHtml;\n",
              "          element.appendChild(docLink);\n",
              "        }\n",
              "      </script>\n",
              "    </div>\n",
              "  </div>\n",
              "  "
            ]
          },
          "metadata": {},
          "execution_count": 5
        }
      ],
      "source": [
        "df.head()"
      ]
    },
    {
      "cell_type": "markdown",
      "metadata": {
        "id": "OhH4QZpEis-k"
      },
      "source": [
        "### Feature Engineering\n"
      ]
    },
    {
      "cell_type": "code",
      "execution_count": 6,
      "metadata": {
        "id": "-VlmPp9ZjIEp",
        "colab": {
          "base_uri": "https://localhost:8080/"
        },
        "outputId": "a6e9da9b-3c06-4a0f-968f-ee56b8c1aff1"
      },
      "outputs": [
        {
          "output_type": "stream",
          "name": "stderr",
          "text": [
            "[nltk_data] Downloading package stopwords to /root/nltk_data...\n",
            "[nltk_data]   Package stopwords is already up-to-date!\n"
          ]
        },
        {
          "output_type": "execute_result",
          "data": {
            "text/plain": [
              "True"
            ]
          },
          "metadata": {},
          "execution_count": 6
        }
      ],
      "source": [
        "import nltk\n",
        "from nltk.corpus import stopwords\n",
        "nltk.download('stopwords')"
      ]
    },
    {
      "cell_type": "code",
      "execution_count": 7,
      "metadata": {
        "id": "VwAEfSi9ilZT"
      },
      "outputs": [],
      "source": [
        "### TF-IDF ###\n",
        "vectorizer = TfidfVectorizer(max_features=2000, max_df = 0.90, min_df = 10, stop_words=stopwords.words('english'))\n",
        "features = vectorizer.fit_transform(df['text'].values).toarray()"
      ]
    },
    {
      "cell_type": "code",
      "execution_count": 8,
      "metadata": {
        "id": "TsnHIxFuZitw"
      },
      "outputs": [],
      "source": [
        "# Categoric label convert to numeric value\n",
        "df[\"sentiment_label_encoding\"] = LabelEncoder().fit_transform(df[\"sentiment_label\"])"
      ]
    },
    {
      "cell_type": "code",
      "source": [
        "df.head()"
      ],
      "metadata": {
        "id": "6i7wjofGK2Dy",
        "outputId": "182a257b-5afa-4d85-c6ef-632ab206d68e",
        "colab": {
          "base_uri": "https://localhost:8080/",
          "height": 206
        }
      },
      "execution_count": 9,
      "outputs": [
        {
          "output_type": "execute_result",
          "data": {
            "text/plain": [
              "   user_location        date                                               text  polarity_score sentiment_label  sentiment_label_encoding\n",
              "0  United States  2020-12-08  removed cfo chieffinancialofficer wonder makin...            0.00         neutral                         1\n",
              "1  United States  2020-12-08  one trusting gate amp fauci amp mandate yall b...            0.68        positive                         2\n",
              "2          India  2020-12-08  putin daughter vaccinated first approved vacci...            0.42        positive                         2\n",
              "3          India  2020-12-08  marketwatch putin daughter vaccinated st appro...            0.42        positive                         2\n",
              "4          India  2020-12-08  abc debrobertsabc natgeo putin daughter vaccin...            0.42        positive                         2"
            ],
            "text/html": [
              "\n",
              "  <div id=\"df-888a9620-664e-4a8b-908d-fb5985c505d3\">\n",
              "    <div class=\"colab-df-container\">\n",
              "      <div>\n",
              "<style scoped>\n",
              "    .dataframe tbody tr th:only-of-type {\n",
              "        vertical-align: middle;\n",
              "    }\n",
              "\n",
              "    .dataframe tbody tr th {\n",
              "        vertical-align: top;\n",
              "    }\n",
              "\n",
              "    .dataframe thead th {\n",
              "        text-align: right;\n",
              "    }\n",
              "</style>\n",
              "<table border=\"1\" class=\"dataframe\">\n",
              "  <thead>\n",
              "    <tr style=\"text-align: right;\">\n",
              "      <th></th>\n",
              "      <th>user_location</th>\n",
              "      <th>date</th>\n",
              "      <th>text</th>\n",
              "      <th>polarity_score</th>\n",
              "      <th>sentiment_label</th>\n",
              "      <th>sentiment_label_encoding</th>\n",
              "    </tr>\n",
              "  </thead>\n",
              "  <tbody>\n",
              "    <tr>\n",
              "      <th>0</th>\n",
              "      <td>United States</td>\n",
              "      <td>2020-12-08</td>\n",
              "      <td>removed cfo chieffinancialofficer wonder makin...</td>\n",
              "      <td>0.00</td>\n",
              "      <td>neutral</td>\n",
              "      <td>1</td>\n",
              "    </tr>\n",
              "    <tr>\n",
              "      <th>1</th>\n",
              "      <td>United States</td>\n",
              "      <td>2020-12-08</td>\n",
              "      <td>one trusting gate amp fauci amp mandate yall b...</td>\n",
              "      <td>0.68</td>\n",
              "      <td>positive</td>\n",
              "      <td>2</td>\n",
              "    </tr>\n",
              "    <tr>\n",
              "      <th>2</th>\n",
              "      <td>India</td>\n",
              "      <td>2020-12-08</td>\n",
              "      <td>putin daughter vaccinated first approved vacci...</td>\n",
              "      <td>0.42</td>\n",
              "      <td>positive</td>\n",
              "      <td>2</td>\n",
              "    </tr>\n",
              "    <tr>\n",
              "      <th>3</th>\n",
              "      <td>India</td>\n",
              "      <td>2020-12-08</td>\n",
              "      <td>marketwatch putin daughter vaccinated st appro...</td>\n",
              "      <td>0.42</td>\n",
              "      <td>positive</td>\n",
              "      <td>2</td>\n",
              "    </tr>\n",
              "    <tr>\n",
              "      <th>4</th>\n",
              "      <td>India</td>\n",
              "      <td>2020-12-08</td>\n",
              "      <td>abc debrobertsabc natgeo putin daughter vaccin...</td>\n",
              "      <td>0.42</td>\n",
              "      <td>positive</td>\n",
              "      <td>2</td>\n",
              "    </tr>\n",
              "  </tbody>\n",
              "</table>\n",
              "</div>\n",
              "      <button class=\"colab-df-convert\" onclick=\"convertToInteractive('df-888a9620-664e-4a8b-908d-fb5985c505d3')\"\n",
              "              title=\"Convert this dataframe to an interactive table.\"\n",
              "              style=\"display:none;\">\n",
              "        \n",
              "  <svg xmlns=\"http://www.w3.org/2000/svg\" height=\"24px\"viewBox=\"0 0 24 24\"\n",
              "       width=\"24px\">\n",
              "    <path d=\"M0 0h24v24H0V0z\" fill=\"none\"/>\n",
              "    <path d=\"M18.56 5.44l.94 2.06.94-2.06 2.06-.94-2.06-.94-.94-2.06-.94 2.06-2.06.94zm-11 1L8.5 8.5l.94-2.06 2.06-.94-2.06-.94L8.5 2.5l-.94 2.06-2.06.94zm10 10l.94 2.06.94-2.06 2.06-.94-2.06-.94-.94-2.06-.94 2.06-2.06.94z\"/><path d=\"M17.41 7.96l-1.37-1.37c-.4-.4-.92-.59-1.43-.59-.52 0-1.04.2-1.43.59L10.3 9.45l-7.72 7.72c-.78.78-.78 2.05 0 2.83L4 21.41c.39.39.9.59 1.41.59.51 0 1.02-.2 1.41-.59l7.78-7.78 2.81-2.81c.8-.78.8-2.07 0-2.86zM5.41 20L4 18.59l7.72-7.72 1.47 1.35L5.41 20z\"/>\n",
              "  </svg>\n",
              "      </button>\n",
              "      \n",
              "  <style>\n",
              "    .colab-df-container {\n",
              "      display:flex;\n",
              "      flex-wrap:wrap;\n",
              "      gap: 12px;\n",
              "    }\n",
              "\n",
              "    .colab-df-convert {\n",
              "      background-color: #E8F0FE;\n",
              "      border: none;\n",
              "      border-radius: 50%;\n",
              "      cursor: pointer;\n",
              "      display: none;\n",
              "      fill: #1967D2;\n",
              "      height: 32px;\n",
              "      padding: 0 0 0 0;\n",
              "      width: 32px;\n",
              "    }\n",
              "\n",
              "    .colab-df-convert:hover {\n",
              "      background-color: #E2EBFA;\n",
              "      box-shadow: 0px 1px 2px rgba(60, 64, 67, 0.3), 0px 1px 3px 1px rgba(60, 64, 67, 0.15);\n",
              "      fill: #174EA6;\n",
              "    }\n",
              "\n",
              "    [theme=dark] .colab-df-convert {\n",
              "      background-color: #3B4455;\n",
              "      fill: #D2E3FC;\n",
              "    }\n",
              "\n",
              "    [theme=dark] .colab-df-convert:hover {\n",
              "      background-color: #434B5C;\n",
              "      box-shadow: 0px 1px 3px 1px rgba(0, 0, 0, 0.15);\n",
              "      filter: drop-shadow(0px 1px 2px rgba(0, 0, 0, 0.3));\n",
              "      fill: #FFFFFF;\n",
              "    }\n",
              "  </style>\n",
              "\n",
              "      <script>\n",
              "        const buttonEl =\n",
              "          document.querySelector('#df-888a9620-664e-4a8b-908d-fb5985c505d3 button.colab-df-convert');\n",
              "        buttonEl.style.display =\n",
              "          google.colab.kernel.accessAllowed ? 'block' : 'none';\n",
              "\n",
              "        async function convertToInteractive(key) {\n",
              "          const element = document.querySelector('#df-888a9620-664e-4a8b-908d-fb5985c505d3');\n",
              "          const dataTable =\n",
              "            await google.colab.kernel.invokeFunction('convertToInteractive',\n",
              "                                                     [key], {});\n",
              "          if (!dataTable) return;\n",
              "\n",
              "          const docLinkHtml = 'Like what you see? Visit the ' +\n",
              "            '<a target=\"_blank\" href=https://colab.research.google.com/notebooks/data_table.ipynb>data table notebook</a>'\n",
              "            + ' to learn more about interactive tables.';\n",
              "          element.innerHTML = '';\n",
              "          dataTable['output_type'] = 'display_data';\n",
              "          await google.colab.output.renderOutput(dataTable, element);\n",
              "          const docLink = document.createElement('div');\n",
              "          docLink.innerHTML = docLinkHtml;\n",
              "          element.appendChild(docLink);\n",
              "        }\n",
              "      </script>\n",
              "    </div>\n",
              "  </div>\n",
              "  "
            ]
          },
          "metadata": {},
          "execution_count": 9
        }
      ]
    },
    {
      "cell_type": "code",
      "source": [
        "# 0: negative\n",
        "# 1: neutral\n",
        "# 2: positive"
      ],
      "metadata": {
        "id": "zcnxD3vIu_9y"
      },
      "execution_count": 10,
      "outputs": []
    },
    {
      "cell_type": "code",
      "source": [
        "df.head()"
      ],
      "metadata": {
        "colab": {
          "base_uri": "https://localhost:8080/",
          "height": 206
        },
        "id": "SeKz2wp7Kqx3",
        "outputId": "9b278e84-3fc4-4e1b-cc3d-d50db542030b"
      },
      "execution_count": 11,
      "outputs": [
        {
          "output_type": "execute_result",
          "data": {
            "text/plain": [
              "   user_location        date                                               text  polarity_score sentiment_label  sentiment_label_encoding\n",
              "0  United States  2020-12-08  removed cfo chieffinancialofficer wonder makin...            0.00         neutral                         1\n",
              "1  United States  2020-12-08  one trusting gate amp fauci amp mandate yall b...            0.68        positive                         2\n",
              "2          India  2020-12-08  putin daughter vaccinated first approved vacci...            0.42        positive                         2\n",
              "3          India  2020-12-08  marketwatch putin daughter vaccinated st appro...            0.42        positive                         2\n",
              "4          India  2020-12-08  abc debrobertsabc natgeo putin daughter vaccin...            0.42        positive                         2"
            ],
            "text/html": [
              "\n",
              "  <div id=\"df-a0f9a1c1-e6eb-4c6c-bb0d-20749d0e347c\">\n",
              "    <div class=\"colab-df-container\">\n",
              "      <div>\n",
              "<style scoped>\n",
              "    .dataframe tbody tr th:only-of-type {\n",
              "        vertical-align: middle;\n",
              "    }\n",
              "\n",
              "    .dataframe tbody tr th {\n",
              "        vertical-align: top;\n",
              "    }\n",
              "\n",
              "    .dataframe thead th {\n",
              "        text-align: right;\n",
              "    }\n",
              "</style>\n",
              "<table border=\"1\" class=\"dataframe\">\n",
              "  <thead>\n",
              "    <tr style=\"text-align: right;\">\n",
              "      <th></th>\n",
              "      <th>user_location</th>\n",
              "      <th>date</th>\n",
              "      <th>text</th>\n",
              "      <th>polarity_score</th>\n",
              "      <th>sentiment_label</th>\n",
              "      <th>sentiment_label_encoding</th>\n",
              "    </tr>\n",
              "  </thead>\n",
              "  <tbody>\n",
              "    <tr>\n",
              "      <th>0</th>\n",
              "      <td>United States</td>\n",
              "      <td>2020-12-08</td>\n",
              "      <td>removed cfo chieffinancialofficer wonder makin...</td>\n",
              "      <td>0.00</td>\n",
              "      <td>neutral</td>\n",
              "      <td>1</td>\n",
              "    </tr>\n",
              "    <tr>\n",
              "      <th>1</th>\n",
              "      <td>United States</td>\n",
              "      <td>2020-12-08</td>\n",
              "      <td>one trusting gate amp fauci amp mandate yall b...</td>\n",
              "      <td>0.68</td>\n",
              "      <td>positive</td>\n",
              "      <td>2</td>\n",
              "    </tr>\n",
              "    <tr>\n",
              "      <th>2</th>\n",
              "      <td>India</td>\n",
              "      <td>2020-12-08</td>\n",
              "      <td>putin daughter vaccinated first approved vacci...</td>\n",
              "      <td>0.42</td>\n",
              "      <td>positive</td>\n",
              "      <td>2</td>\n",
              "    </tr>\n",
              "    <tr>\n",
              "      <th>3</th>\n",
              "      <td>India</td>\n",
              "      <td>2020-12-08</td>\n",
              "      <td>marketwatch putin daughter vaccinated st appro...</td>\n",
              "      <td>0.42</td>\n",
              "      <td>positive</td>\n",
              "      <td>2</td>\n",
              "    </tr>\n",
              "    <tr>\n",
              "      <th>4</th>\n",
              "      <td>India</td>\n",
              "      <td>2020-12-08</td>\n",
              "      <td>abc debrobertsabc natgeo putin daughter vaccin...</td>\n",
              "      <td>0.42</td>\n",
              "      <td>positive</td>\n",
              "      <td>2</td>\n",
              "    </tr>\n",
              "  </tbody>\n",
              "</table>\n",
              "</div>\n",
              "      <button class=\"colab-df-convert\" onclick=\"convertToInteractive('df-a0f9a1c1-e6eb-4c6c-bb0d-20749d0e347c')\"\n",
              "              title=\"Convert this dataframe to an interactive table.\"\n",
              "              style=\"display:none;\">\n",
              "        \n",
              "  <svg xmlns=\"http://www.w3.org/2000/svg\" height=\"24px\"viewBox=\"0 0 24 24\"\n",
              "       width=\"24px\">\n",
              "    <path d=\"M0 0h24v24H0V0z\" fill=\"none\"/>\n",
              "    <path d=\"M18.56 5.44l.94 2.06.94-2.06 2.06-.94-2.06-.94-.94-2.06-.94 2.06-2.06.94zm-11 1L8.5 8.5l.94-2.06 2.06-.94-2.06-.94L8.5 2.5l-.94 2.06-2.06.94zm10 10l.94 2.06.94-2.06 2.06-.94-2.06-.94-.94-2.06-.94 2.06-2.06.94z\"/><path d=\"M17.41 7.96l-1.37-1.37c-.4-.4-.92-.59-1.43-.59-.52 0-1.04.2-1.43.59L10.3 9.45l-7.72 7.72c-.78.78-.78 2.05 0 2.83L4 21.41c.39.39.9.59 1.41.59.51 0 1.02-.2 1.41-.59l7.78-7.78 2.81-2.81c.8-.78.8-2.07 0-2.86zM5.41 20L4 18.59l7.72-7.72 1.47 1.35L5.41 20z\"/>\n",
              "  </svg>\n",
              "      </button>\n",
              "      \n",
              "  <style>\n",
              "    .colab-df-container {\n",
              "      display:flex;\n",
              "      flex-wrap:wrap;\n",
              "      gap: 12px;\n",
              "    }\n",
              "\n",
              "    .colab-df-convert {\n",
              "      background-color: #E8F0FE;\n",
              "      border: none;\n",
              "      border-radius: 50%;\n",
              "      cursor: pointer;\n",
              "      display: none;\n",
              "      fill: #1967D2;\n",
              "      height: 32px;\n",
              "      padding: 0 0 0 0;\n",
              "      width: 32px;\n",
              "    }\n",
              "\n",
              "    .colab-df-convert:hover {\n",
              "      background-color: #E2EBFA;\n",
              "      box-shadow: 0px 1px 2px rgba(60, 64, 67, 0.3), 0px 1px 3px 1px rgba(60, 64, 67, 0.15);\n",
              "      fill: #174EA6;\n",
              "    }\n",
              "\n",
              "    [theme=dark] .colab-df-convert {\n",
              "      background-color: #3B4455;\n",
              "      fill: #D2E3FC;\n",
              "    }\n",
              "\n",
              "    [theme=dark] .colab-df-convert:hover {\n",
              "      background-color: #434B5C;\n",
              "      box-shadow: 0px 1px 3px 1px rgba(0, 0, 0, 0.15);\n",
              "      filter: drop-shadow(0px 1px 2px rgba(0, 0, 0, 0.3));\n",
              "      fill: #FFFFFF;\n",
              "    }\n",
              "  </style>\n",
              "\n",
              "      <script>\n",
              "        const buttonEl =\n",
              "          document.querySelector('#df-a0f9a1c1-e6eb-4c6c-bb0d-20749d0e347c button.colab-df-convert');\n",
              "        buttonEl.style.display =\n",
              "          google.colab.kernel.accessAllowed ? 'block' : 'none';\n",
              "\n",
              "        async function convertToInteractive(key) {\n",
              "          const element = document.querySelector('#df-a0f9a1c1-e6eb-4c6c-bb0d-20749d0e347c');\n",
              "          const dataTable =\n",
              "            await google.colab.kernel.invokeFunction('convertToInteractive',\n",
              "                                                     [key], {});\n",
              "          if (!dataTable) return;\n",
              "\n",
              "          const docLinkHtml = 'Like what you see? Visit the ' +\n",
              "            '<a target=\"_blank\" href=https://colab.research.google.com/notebooks/data_table.ipynb>data table notebook</a>'\n",
              "            + ' to learn more about interactive tables.';\n",
              "          element.innerHTML = '';\n",
              "          dataTable['output_type'] = 'display_data';\n",
              "          await google.colab.output.renderOutput(dataTable, element);\n",
              "          const docLink = document.createElement('div');\n",
              "          docLink.innerHTML = docLinkHtml;\n",
              "          element.appendChild(docLink);\n",
              "        }\n",
              "      </script>\n",
              "    </div>\n",
              "  </div>\n",
              "  "
            ]
          },
          "metadata": {},
          "execution_count": 11
        }
      ]
    },
    {
      "cell_type": "code",
      "execution_count": 13,
      "metadata": {
        "id": "wAIFZoGiZp3C"
      },
      "outputs": [],
      "source": [
        "# The model is installed on the train set.\n",
        "from sklearn.model_selection import train_test_split\n",
        "X_train, X_test, y_train, y_test = train_test_split(features, df['sentiment_label_encoding'].values, test_size=0.20, random_state=42)"
      ]
    },
    {
      "cell_type": "markdown",
      "source": [
        "### Multi Logistic Regression"
      ],
      "metadata": {
        "id": "2aa0BZiYvpIy"
      }
    },
    {
      "cell_type": "code",
      "execution_count": 14,
      "metadata": {
        "id": "skKlELM0tvO8"
      },
      "outputs": [],
      "source": [
        "model_multilog_reg = LogisticRegression(random_state=1, multi_class='multinomial', solver='newton-cg').fit(X_train, y_train)"
      ]
    },
    {
      "cell_type": "markdown",
      "source": [
        "#### Success Evaluation"
      ],
      "metadata": {
        "id": "L_vV-hvqwIKn"
      }
    },
    {
      "cell_type": "code",
      "source": [
        "y_pred = model_multilog_reg.predict(X_train)"
      ],
      "metadata": {
        "id": "YPvlXCakyRtj"
      },
      "execution_count": 15,
      "outputs": []
    },
    {
      "cell_type": "code",
      "source": [
        "print('Train Accuracy Score:', metrics.accuracy_score(y_train, y_pred))"
      ],
      "metadata": {
        "colab": {
          "base_uri": "https://localhost:8080/"
        },
        "id": "8SwEnvIAxJN0",
        "outputId": "82021b53-1538-47b9-cd98-1a46a7fb2064"
      },
      "execution_count": 16,
      "outputs": [
        {
          "output_type": "stream",
          "name": "stdout",
          "text": [
            "Train Accuracy Score: 0.8730792407351612\n"
          ]
        }
      ]
    },
    {
      "cell_type": "code",
      "source": [
        "# test\n",
        "y_prob = model_multilog_reg.predict_proba(X_test)[:,1]"
      ],
      "metadata": {
        "id": "eiLXdp7Twlcr"
      },
      "execution_count": 17,
      "outputs": []
    },
    {
      "cell_type": "code",
      "source": [
        "# y_pred for other metrics\n",
        "y_pred = model_multilog_reg.predict(X_test)"
      ],
      "metadata": {
        "id": "7kz8SInRwyBQ"
      },
      "execution_count": 18,
      "outputs": []
    },
    {
      "cell_type": "code",
      "source": [
        "\n",
        "# Confusion Matrix\n",
        "def plot_confision_matrix(y, y_red):\n",
        "    acc = round(accuracy_score(y, y_pred), 2)\n",
        "    cm = confusion_matrix(y, y_pred)\n",
        "    sns.heatmap(cm, annot = True, fmt=\".0f\")\n",
        "    plt.xlabel(\"y_pred\")\n",
        "    plt.ylabel(\"y\")\n",
        "    plt.title(\"Accuracy score: {0}\".format((acc), size=10))\n",
        "    plt.show()\n",
        "\n",
        "plot_confision_matrix(y_test, y_pred)"
      ],
      "metadata": {
        "colab": {
          "base_uri": "https://localhost:8080/",
          "height": 296
        },
        "id": "0kwLefgYw4b1",
        "outputId": "00ada870-e0ef-4984-b372-25dfe1e69326"
      },
      "execution_count": 19,
      "outputs": [
        {
          "output_type": "display_data",
          "data": {
            "text/plain": [
              "<Figure size 432x288 with 2 Axes>"
            ],
            "image/png": "[encoded data removed]"
          },
          "metadata": {
            "needs_background": "light"
          }
        }
      ]
    },
    {
      "cell_type": "code",
      "source": [
        "print('Test Accuracy Score:', metrics.accuracy_score(y_test, y_pred))"
      ],
      "metadata": {
        "colab": {
          "base_uri": "https://localhost:8080/"
        },
        "id": "bOWF-MX9y27I",
        "outputId": "4d7e8cac-edbb-433b-ef46-e9083438e96b"
      },
      "execution_count": 20,
      "outputs": [
        {
          "output_type": "stream",
          "name": "stdout",
          "text": [
            "Test Accuracy Score: 0.8667762256915913\n"
          ]
        }
      ]
    },
    {
      "cell_type": "code",
      "source": [
        "print('Precision Score:', metrics.precision_score(y_test, y_pred, average='weighted'))\n",
        "# average parameter neccessary for multi class label "
      ],
      "metadata": {
        "colab": {
          "base_uri": "https://localhost:8080/"
        },
        "id": "DybT0xtzy29p",
        "outputId": "e3753d4b-5d0c-48c9-e05c-8d06483b4422"
      },
      "execution_count": 21,
      "outputs": [
        {
          "output_type": "stream",
          "name": "stdout",
          "text": [
            "Precision Score: 0.8711324889327435\n"
          ]
        }
      ]
    },
    {
      "cell_type": "code",
      "source": [
        "print('Recall Score:', metrics.recall_score(y_test, y_pred, average='weighted'))"
      ],
      "metadata": {
        "colab": {
          "base_uri": "https://localhost:8080/"
        },
        "id": "P6ObXBMCy3AM",
        "outputId": "69dfd1e3-a12e-4557-891a-f4338096651e"
      },
      "execution_count": 22,
      "outputs": [
        {
          "output_type": "stream",
          "name": "stdout",
          "text": [
            "Recall Score: 0.8667762256915913\n"
          ]
        }
      ]
    },
    {
      "cell_type": "code",
      "source": [
        "print('F1-Score Score:', metrics.f1_score(y_test, y_pred, average='weighted'))"
      ],
      "metadata": {
        "colab": {
          "base_uri": "https://localhost:8080/"
        },
        "id": "Fyu3g0EFy3Fa",
        "outputId": "2c43b4c8-99dd-4bf3-a17a-2a94cb300aea"
      },
      "execution_count": 23,
      "outputs": [
        {
          "output_type": "stream",
          "name": "stdout",
          "text": [
            "F1-Score Score: 0.8640398564657359\n"
          ]
        }
      ]
    },
    {
      "cell_type": "code",
      "source": [
        "class_report=classification_report(y_test, y_pred)\n",
        "print(class_report)"
      ],
      "metadata": {
        "colab": {
          "base_uri": "https://localhost:8080/"
        },
        "id": "rw3RfvwI0TEh",
        "outputId": "a5ee43e3-d202-43b8-ec39-02cc0df80815"
      },
      "execution_count": 24,
      "outputs": [
        {
          "output_type": "stream",
          "name": "stdout",
          "text": [
            "              precision    recall  f1-score   support\n",
            "\n",
            "           0       0.85      0.65      0.73      6888\n",
            "           1       0.80      0.96      0.87     11765\n",
            "           2       0.93      0.89      0.91     17857\n",
            "\n",
            "    accuracy                           0.87     36510\n",
            "   macro avg       0.86      0.83      0.84     36510\n",
            "weighted avg       0.87      0.87      0.86     36510\n",
            "\n"
          ]
        }
      ]
    },
    {
      "cell_type": "markdown",
      "source": [
        "### Random Forest"
      ],
      "metadata": {
        "id": "Xh_hRzDY4kJe"
      }
    },
    {
      "cell_type": "code",
      "source": [
        "from sklearn.ensemble import RandomForestClassifier"
      ],
      "metadata": {
        "id": "AxBhcsXD58b7"
      },
      "execution_count": 25,
      "outputs": []
    },
    {
      "cell_type": "code",
      "source": [
        "# RF Trial:\n",
        "rf = RandomForestClassifier(criterion = 'entropy', random_state = 1)"
      ],
      "metadata": {
        "id": "mgoqUo-51K0Z"
      },
      "execution_count": 26,
      "outputs": []
    },
    {
      "cell_type": "code",
      "source": [
        "rf_model = rf.fit(X_train,y_train)"
      ],
      "metadata": {
        "id": "msSMsQt66TNX"
      },
      "execution_count": 27,
      "outputs": []
    },
    {
      "cell_type": "code",
      "source": [
        "# train accuracy\n",
        "y_pred = rf_model.predict(X_train)"
      ],
      "metadata": {
        "id": "GSLgt69ggk3w"
      },
      "execution_count": 31,
      "outputs": []
    },
    {
      "cell_type": "code",
      "source": [
        "print('Train Accuracy Score:', metrics.accuracy_score(y_train, y_pred))"
      ],
      "metadata": {
        "colab": {
          "base_uri": "https://localhost:8080/"
        },
        "id": "4oXUd_RfgndV",
        "outputId": "d7c88f70-f130-4e74-a163-5cf05f24cb1f"
      },
      "execution_count": 32,
      "outputs": [
        {
          "output_type": "stream",
          "name": "stdout",
          "text": [
            "Train Accuracy Score: 0.9971650825823769\n"
          ]
        }
      ]
    },
    {
      "cell_type": "code",
      "source": [
        "# test accuracy\n",
        "y_pred = rf_model.predict(X_test)"
      ],
      "metadata": {
        "id": "NEIxWY661K2_"
      },
      "execution_count": 33,
      "outputs": []
    },
    {
      "cell_type": "code",
      "execution_count": 34,
      "metadata": {
        "id": "2Um3EaxfDDmJ",
        "colab": {
          "base_uri": "https://localhost:8080/"
        },
        "outputId": "f7b8745c-6825-4001-baf7-22157216dcdc"
      },
      "outputs": [
        {
          "output_type": "stream",
          "name": "stdout",
          "text": [
            "Test Accuracy Score: 0.8503423719528896\n"
          ]
        }
      ],
      "source": [
        "print('Test Accuracy Score:', metrics.accuracy_score(y_test, y_pred))"
      ]
    },
    {
      "cell_type": "code",
      "execution_count": 35,
      "metadata": {
        "id": "2Gww3S_rFHQQ",
        "colab": {
          "base_uri": "https://localhost:8080/"
        },
        "outputId": "30ca645c-29f9-4b9c-da25-a5ddf2fcc59a"
      },
      "outputs": [
        {
          "output_type": "stream",
          "name": "stdout",
          "text": [
            "Precision Score: 0.8572166837264412\n"
          ]
        }
      ],
      "source": [
        "print('Precision Score:', metrics.precision_score(y_test, y_pred, average='weighted'))"
      ]
    },
    {
      "cell_type": "code",
      "source": [
        "print('Recall Score:', metrics.recall_score(y_test, y_pred, average='weighted'))"
      ],
      "metadata": {
        "id": "LmwYa4moBSd6",
        "colab": {
          "base_uri": "https://localhost:8080/"
        },
        "outputId": "5887cbcb-4e6b-496e-a498-99e4b1a72434"
      },
      "execution_count": 36,
      "outputs": [
        {
          "output_type": "stream",
          "name": "stdout",
          "text": [
            "Recall Score: 0.8503423719528896\n"
          ]
        }
      ]
    },
    {
      "cell_type": "code",
      "source": [
        "print('F1-Score Score:', metrics.f1_score(y_test, y_pred, average='weighted'))"
      ],
      "metadata": {
        "id": "z477QRTMBVPt",
        "colab": {
          "base_uri": "https://localhost:8080/"
        },
        "outputId": "7df0c2a2-7a6a-449d-c128-ecec5cd3a109"
      },
      "execution_count": 37,
      "outputs": [
        {
          "output_type": "stream",
          "name": "stdout",
          "text": [
            "F1-Score Score: 0.846027132387373\n"
          ]
        }
      ]
    },
    {
      "cell_type": "code",
      "source": [
        "# Confusion Matrix\n",
        "def plot_confision_matrix(y, y_red):\n",
        "    acc = round(accuracy_score(y, y_pred), 2)\n",
        "    cm = confusion_matrix(y, y_pred)\n",
        "    sns.heatmap(cm, annot = True, fmt=\".0f\")\n",
        "    plt.xlabel(\"y_pred\")\n",
        "    plt.ylabel(\"y\")\n",
        "    plt.title(\"Accuracy score: {0}\".format((acc), size=10))\n",
        "    plt.show()\n",
        "\n",
        "plot_confision_matrix(y_test, y_pred)"
      ],
      "metadata": {
        "id": "idFxKU5gzIjx",
        "colab": {
          "base_uri": "https://localhost:8080/",
          "height": 296
        },
        "outputId": "6d8e0d3d-fe70-4f9f-ef18-fd69a5ae702f"
      },
      "execution_count": 38,
      "outputs": [
        {
          "output_type": "display_data",
          "data": {
            "text/plain": [
              "<Figure size 432x288 with 2 Axes>"
            ],
            "image/png": "[encoded data removed]"
          },
          "metadata": {
            "needs_background": "light"
          }
        }
      ]
    },
    {
      "cell_type": "code",
      "source": [
        " \n",
        "print(class_report)"
      ],
      "metadata": {
        "id": "i9cnKkXOBXtO",
        "colab": {
          "base_uri": "https://localhost:8080/"
        },
        "outputId": "842c80d9-14e9-42c3-c0bb-a5afd39286ed"
      },
      "execution_count": 39,
      "outputs": [
        {
          "output_type": "stream",
          "name": "stdout",
          "text": [
            "              precision    recall  f1-score   support\n",
            "\n",
            "           0       0.85      0.65      0.73      6888\n",
            "           1       0.80      0.96      0.87     11765\n",
            "           2       0.93      0.89      0.91     17857\n",
            "\n",
            "    accuracy                           0.87     36510\n",
            "   macro avg       0.86      0.83      0.84     36510\n",
            "weighted avg       0.87      0.87      0.86     36510\n",
            "\n"
          ]
        }
      ]
    },
    {
      "cell_type": "markdown",
      "source": [
        "## Naive Bayes"
      ],
      "metadata": {
        "id": "2tEqHDdDWcUc"
      }
    },
    {
      "cell_type": "code",
      "source": [
        "from sklearn.naive_bayes import MultinomialNB"
      ],
      "metadata": {
        "id": "lulXYTiKXCU5"
      },
      "execution_count": 40,
      "outputs": []
    },
    {
      "cell_type": "code",
      "source": [
        "clf = MultinomialNB().fit(X_train, y_train)"
      ],
      "metadata": {
        "id": "Kva9CjdNXK2u"
      },
      "execution_count": 41,
      "outputs": []
    },
    {
      "cell_type": "code",
      "source": [
        "y_pred = clf.predict(X_train)"
      ],
      "metadata": {
        "id": "7yBBmK8cYvpe"
      },
      "execution_count": 42,
      "outputs": []
    },
    {
      "cell_type": "code",
      "source": [
        "print('Train Accuracy Score:', metrics.accuracy_score(y_train, y_pred))"
      ],
      "metadata": {
        "colab": {
          "base_uri": "https://localhost:8080/"
        },
        "id": "otXorP16Y0UI",
        "outputId": "18bac179-558b-46c5-9871-c1a5d90816c0"
      },
      "execution_count": 43,
      "outputs": [
        {
          "output_type": "stream",
          "name": "stdout",
          "text": [
            "Train Accuracy Score: 0.7725697773151825\n"
          ]
        }
      ]
    },
    {
      "cell_type": "code",
      "source": [
        "# test\n",
        "y_prob = clf.predict_proba(X_test)[:,1]"
      ],
      "metadata": {
        "id": "Vvhn7ly9Y3Pa"
      },
      "execution_count": 44,
      "outputs": []
    },
    {
      "cell_type": "code",
      "source": [
        "# y_pred for other metrics\n",
        "y_pred = clf.predict(X_test)"
      ],
      "metadata": {
        "id": "FDrvo_wyY6OB"
      },
      "execution_count": 45,
      "outputs": []
    },
    {
      "cell_type": "code",
      "source": [
        "# Confusion Matrix\n",
        "def plot_confision_matrix(y, y_red):\n",
        "    acc = round(accuracy_score(y, y_pred), 2)\n",
        "    cm = confusion_matrix(y, y_pred)\n",
        "    sns.heatmap(cm, annot = True, fmt=\".0f\")\n",
        "    plt.xlabel(\"y_pred\")\n",
        "    plt.ylabel(\"y\")\n",
        "    plt.title(\"Accuracy score: {0}\".format((acc), size=10))\n",
        "    plt.show()\n",
        "\n",
        "plot_confision_matrix(y_test, y_pred)"
      ],
      "metadata": {
        "colab": {
          "base_uri": "https://localhost:8080/",
          "height": 296
        },
        "id": "YJ1h9meJY_VW",
        "outputId": "e65f8b6c-415e-4ca3-f086-cdda51d78854"
      },
      "execution_count": 46,
      "outputs": [
        {
          "output_type": "display_data",
          "data": {
            "text/plain": [
              "<Figure size 432x288 with 2 Axes>"
            ],
            "image/png": "[encoded data removed]"
          },
          "metadata": {
            "needs_background": "light"
          }
        }
      ]
    },
    {
      "cell_type": "code",
      "source": [
        "print('Test Accuracy Score:', metrics.accuracy_score(y_test, y_pred))"
      ],
      "metadata": {
        "colab": {
          "base_uri": "https://localhost:8080/"
        },
        "id": "Oz4osdjlZEQp",
        "outputId": "1c558cdd-9fa7-495b-8826-91be83a6b8f7"
      },
      "execution_count": 47,
      "outputs": [
        {
          "output_type": "stream",
          "name": "stdout",
          "text": [
            "Test Accuracy Score: 0.7646398247055601\n"
          ]
        }
      ]
    },
    {
      "cell_type": "code",
      "source": [
        "print('Precision Score:', metrics.precision_score(y_test, y_pred, average='weighted'))\n",
        "# average parameter neccessary for multi class label "
      ],
      "metadata": {
        "colab": {
          "base_uri": "https://localhost:8080/"
        },
        "id": "py8yaemJZL8h",
        "outputId": "2423aa67-21da-4e83-8ff6-e9c62a30e5fd"
      },
      "execution_count": 48,
      "outputs": [
        {
          "output_type": "stream",
          "name": "stdout",
          "text": [
            "Precision Score: 0.7656831223918131\n"
          ]
        }
      ]
    },
    {
      "cell_type": "code",
      "source": [
        "print('Recall Score:', metrics.recall_score(y_test, y_pred, average='weighted'))"
      ],
      "metadata": {
        "colab": {
          "base_uri": "https://localhost:8080/"
        },
        "id": "K9hCwlQgZOvM",
        "outputId": "f29b31b1-af17-4987-d577-bf747728918e"
      },
      "execution_count": 49,
      "outputs": [
        {
          "output_type": "stream",
          "name": "stdout",
          "text": [
            "Recall Score: 0.7646398247055601\n"
          ]
        }
      ]
    },
    {
      "cell_type": "code",
      "source": [
        "print('F1-Score Score:', metrics.f1_score(y_test, y_pred, average='weighted'))"
      ],
      "metadata": {
        "colab": {
          "base_uri": "https://localhost:8080/"
        },
        "id": "cZVVCob9ZSAd",
        "outputId": "4e1aeec8-12ee-4244-ee37-4b4655d52ea5"
      },
      "execution_count": 50,
      "outputs": [
        {
          "output_type": "stream",
          "name": "stdout",
          "text": [
            "F1-Score Score: 0.7574746488429717\n"
          ]
        }
      ]
    },
    {
      "cell_type": "code",
      "source": [
        "class_report=classification_report(y_test, y_pred)\n",
        "print(class_report)"
      ],
      "metadata": {
        "colab": {
          "base_uri": "https://localhost:8080/"
        },
        "id": "nNv3GakEZVDN",
        "outputId": "a69c1fc2-3ba0-43b7-fc45-fd6ca9e25726"
      },
      "execution_count": 51,
      "outputs": [
        {
          "output_type": "stream",
          "name": "stdout",
          "text": [
            "              precision    recall  f1-score   support\n",
            "\n",
            "           0       0.76      0.52      0.62      6888\n",
            "           1       0.78      0.72      0.75     11765\n",
            "           2       0.76      0.89      0.82     17857\n",
            "\n",
            "    accuracy                           0.76     36510\n",
            "   macro avg       0.77      0.71      0.73     36510\n",
            "weighted avg       0.77      0.76      0.76     36510\n",
            "\n"
          ]
        }
      ]
    },
    {
      "cell_type": "markdown",
      "source": [
        "## Ridge"
      ],
      "metadata": {
        "id": "chhd4Fohasd9"
      }
    },
    {
      "cell_type": "code",
      "source": [
        "from sklearn.linear_model import RidgeClassifier"
      ],
      "metadata": {
        "id": "TB3161muZZCc"
      },
      "execution_count": 52,
      "outputs": []
    },
    {
      "cell_type": "code",
      "source": [
        "clf = RidgeClassifier().fit(X_train, y_train)"
      ],
      "metadata": {
        "id": "QXiNSpm5a1ai"
      },
      "execution_count": 53,
      "outputs": []
    },
    {
      "cell_type": "code",
      "source": [
        "y_pred = clf.predict(X_train)"
      ],
      "metadata": {
        "id": "fA7kzeHdbhi9"
      },
      "execution_count": 54,
      "outputs": []
    },
    {
      "cell_type": "code",
      "source": [
        "print('Train Accuracy Score:', metrics.accuracy_score(y_train, y_pred))"
      ],
      "metadata": {
        "colab": {
          "base_uri": "https://localhost:8080/"
        },
        "id": "sVudPTmVb28S",
        "outputId": "0b67d144-12a9-4e04-c3ef-6d46809885b7"
      },
      "execution_count": 55,
      "outputs": [
        {
          "output_type": "stream",
          "name": "stdout",
          "text": [
            "Train Accuracy Score: 0.8632665917992823\n"
          ]
        }
      ]
    },
    {
      "cell_type": "code",
      "source": [
        "# y_pred for other metrics\n",
        "y_pred = clf.predict(X_test)"
      ],
      "metadata": {
        "id": "XohcTYXRb5hT"
      },
      "execution_count": 56,
      "outputs": []
    },
    {
      "cell_type": "code",
      "source": [
        "# Confusion Matrix\n",
        "def plot_confision_matrix(y, y_red):\n",
        "    acc = round(accuracy_score(y, y_pred), 2)\n",
        "    cm = confusion_matrix(y, y_pred)\n",
        "    sns.heatmap(cm, annot = True, fmt=\".0f\")\n",
        "    plt.xlabel(\"y_pred\")\n",
        "    plt.ylabel(\"y\")\n",
        "    plt.title(\"Accuracy score: {0}\".format((acc), size=10))\n",
        "    plt.show()\n",
        "\n",
        "plot_confision_matrix(y_test, y_pred)"
      ],
      "metadata": {
        "colab": {
          "base_uri": "https://localhost:8080/",
          "height": 296
        },
        "id": "yA0tC8zib7_P",
        "outputId": "2edcc97e-abdd-4659-ad5b-6b846fba46ef"
      },
      "execution_count": 57,
      "outputs": [
        {
          "output_type": "display_data",
          "data": {
            "text/plain": [
              "<Figure size 432x288 with 2 Axes>"
            ],
            "image/png": "[encoded data removed]"
          },
          "metadata": {
            "needs_background": "light"
          }
        }
      ]
    },
    {
      "cell_type": "code",
      "source": [
        "print('Test Accuracy Score:', metrics.accuracy_score(y_test, y_pred))"
      ],
      "metadata": {
        "colab": {
          "base_uri": "https://localhost:8080/"
        },
        "id": "dc19tMhpevcJ",
        "outputId": "05d52dda-038e-41c6-d1ec-3053774e4cc6"
      },
      "execution_count": 58,
      "outputs": [
        {
          "output_type": "stream",
          "name": "stdout",
          "text": [
            "Test Accuracy Score: 0.8572172007669132\n"
          ]
        }
      ]
    },
    {
      "cell_type": "code",
      "source": [
        "print('Precision Score:', metrics.precision_score(y_test, y_pred, average='weighted'))\n",
        "# average parameter neccessary for multi class label "
      ],
      "metadata": {
        "colab": {
          "base_uri": "https://localhost:8080/"
        },
        "id": "_jpIN2w9eyL7",
        "outputId": "cdaa3f73-be8c-42c7-cf48-0489287daf64"
      },
      "execution_count": 59,
      "outputs": [
        {
          "output_type": "stream",
          "name": "stdout",
          "text": [
            "Precision Score: 0.8631820635538103\n"
          ]
        }
      ]
    },
    {
      "cell_type": "code",
      "source": [
        "print('Recall Score:', metrics.recall_score(y_test, y_pred, average='weighted'))"
      ],
      "metadata": {
        "colab": {
          "base_uri": "https://localhost:8080/"
        },
        "id": "gYtDktIRe06M",
        "outputId": "c1169e8a-6293-498c-a293-bcffe709cce5"
      },
      "execution_count": 60,
      "outputs": [
        {
          "output_type": "stream",
          "name": "stdout",
          "text": [
            "Recall Score: 0.8572172007669132\n"
          ]
        }
      ]
    },
    {
      "cell_type": "code",
      "source": [
        "print('F1-Score Score:', metrics.f1_score(y_test, y_pred, average='weighted'))"
      ],
      "metadata": {
        "colab": {
          "base_uri": "https://localhost:8080/"
        },
        "id": "HhaRXj4Ke3UL",
        "outputId": "85e98d9c-5d08-4130-c31d-b07799342cf3"
      },
      "execution_count": 61,
      "outputs": [
        {
          "output_type": "stream",
          "name": "stdout",
          "text": [
            "F1-Score Score: 0.8541715865256048\n"
          ]
        }
      ]
    },
    {
      "cell_type": "code",
      "source": [
        "class_report=classification_report(y_test, y_pred)\n",
        "print(class_report)"
      ],
      "metadata": {
        "id": "Jf1Dhbyre7fM",
        "outputId": "59c09dca-c1d7-4ebd-eb8f-c287955d8a01",
        "colab": {
          "base_uri": "https://localhost:8080/"
        }
      },
      "execution_count": 62,
      "outputs": [
        {
          "output_type": "stream",
          "name": "stdout",
          "text": [
            "              precision    recall  f1-score   support\n",
            "\n",
            "           0       0.85      0.63      0.72      6888\n",
            "           1       0.79      0.96      0.86     11765\n",
            "           2       0.92      0.88      0.90     17857\n",
            "\n",
            "    accuracy                           0.86     36510\n",
            "   macro avg       0.85      0.82      0.83     36510\n",
            "weighted avg       0.86      0.86      0.85     36510\n",
            "\n"
          ]
        }
      ]
    }
  ],
  "metadata": {
    "colab": {
      "collapsed_sections": [],
      "name": "Modelling.ipynb",
      "provenance": []
    },
    "kernelspec": {
      "display_name": "Python 3",
      "name": "python3"
    },
    "language_info": {
      "name": "python"
    }
  },
  "nbformat": 4,
  "nbformat_minor": 0
}