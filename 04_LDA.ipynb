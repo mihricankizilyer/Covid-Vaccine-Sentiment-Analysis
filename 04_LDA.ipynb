{
  "nbformat": 4,
  "nbformat_minor": 0,
  "metadata": {
    "colab": {
      "name": "04_LDA.ipynb",
      "provenance": [],
      "collapsed_sections": []
    },
    "kernelspec": {
      "name": "python3",
      "display_name": "Python 3"
    },
    "language_info": {
      "name": "python"
    }
  },
  "cells": [
    {
      "cell_type": "code",
      "execution_count": null,
      "metadata": {
        "colab": {
          "base_uri": "https://localhost:8080/"
        },
        "id": "uCO9JHHfV4_W",
        "outputId": "5c8793af-421a-4df3-e4e6-6b2d308533a3"
      },
      "outputs": [
        {
          "output_type": "stream",
          "name": "stdout",
          "text": [
            "[nltk_data] Downloading package stopwords to /root/nltk_data...\n",
            "[nltk_data]   Package stopwords is already up-to-date!\n"
          ]
        }
      ],
      "source": [
        "import numpy as np\n",
        "import pandas as pd\n",
        "from sklearn.feature_extraction.text import TfidfVectorizer\n",
        "\n",
        "import nltk\n",
        "from nltk.corpus import stopwords\n",
        "nltk.download('stopwords')\n",
        "\n",
        "from sklearn.decomposition import LatentDirichletAllocation"
      ]
    },
    {
      "cell_type": "code",
      "source": [
        "df_ = pd.read_csv(\"sentiment_label_data.csv\")"
      ],
      "metadata": {
        "id": "0xKlIaqMV9uL"
      },
      "execution_count": null,
      "outputs": []
    },
    {
      "cell_type": "code",
      "source": [
        "df = df_.copy()\n",
        "df = df[[\"user_location\",\"date\",\"text\"]]\n",
        "# focus like unsupervised learning so that not added label"
      ],
      "metadata": {
        "id": "F_oqN4YlWEPJ"
      },
      "execution_count": null,
      "outputs": []
    },
    {
      "cell_type": "code",
      "source": [
        "from sklearn.feature_extraction.text import CountVectorizer"
      ],
      "metadata": {
        "id": "9x3HEPvOWN1q"
      },
      "execution_count": null,
      "outputs": []
    },
    {
      "cell_type": "code",
      "source": [
        "cv = CountVectorizer(max_df = 0.9, min_df= 10, stop_words = \"english\")"
      ],
      "metadata": {
        "id": "ZtfUYpiZa8T1"
      },
      "execution_count": null,
      "outputs": []
    },
    {
      "cell_type": "code",
      "source": [
        "dtm = cv.fit_transform(df['text'])"
      ],
      "metadata": {
        "id": "Xtiw4YSvbV6t"
      },
      "execution_count": null,
      "outputs": []
    },
    {
      "cell_type": "code",
      "source": [
        "LDA = LatentDirichletAllocation(n_components=7,random_state=1)"
      ],
      "metadata": {
        "id": "RD3TetyHWsHh"
      },
      "execution_count": null,
      "outputs": []
    },
    {
      "cell_type": "code",
      "source": [
        "LDA.fit(dtm)"
      ],
      "metadata": {
        "id": "ncRIZLMpXBKd",
        "colab": {
          "base_uri": "https://localhost:8080/"
        },
        "outputId": "fc2d04c9-102c-4111-ac36-80d1a871e38c"
      },
      "execution_count": null,
      "outputs": [
        {
          "output_type": "execute_result",
          "data": {
            "text/plain": [
              "LatentDirichletAllocation(n_components=7, random_state=1)"
            ]
          },
          "metadata": {},
          "execution_count": 25
        }
      ]
    },
    {
      "cell_type": "markdown",
      "source": [
        "#### 1. Grab the vocabulary of words\n"
      ],
      "metadata": {
        "id": "i_DH58Vj8Bpk"
      }
    },
    {
      "cell_type": "code",
      "source": [
        "len(cv.get_feature_names_out())"
      ],
      "metadata": {
        "id": "QWm6w6edXqG0",
        "colab": {
          "base_uri": "https://localhost:8080/"
        },
        "outputId": "58e1f576-ba90-4e13-baf0-9876ff65f24a"
      },
      "execution_count": null,
      "outputs": [
        {
          "output_type": "execute_result",
          "data": {
            "text/plain": [
              "12173"
            ]
          },
          "metadata": {},
          "execution_count": 26
        }
      ]
    },
    {
      "cell_type": "code",
      "source": [
        "import random\n",
        "\n",
        "random_word_id = random.randint(0, 12173)\n",
        "\n",
        "cv.get_feature_names_out()[random_word_id]"
      ],
      "metadata": {
        "colab": {
          "base_uri": "https://localhost:8080/",
          "height": 36
        },
        "id": "Zgy00xOs6hIG",
        "outputId": "e498c13b-6fef-4e32-a71d-c0998dd5e05a"
      },
      "execution_count": null,
      "outputs": [
        {
          "output_type": "execute_result",
          "data": {
            "text/plain": [
              "'article'"
            ],
            "application/vnd.google.colaboratory.intrinsic+json": {
              "type": "string"
            }
          },
          "metadata": {},
          "execution_count": 27
        }
      ]
    },
    {
      "cell_type": "markdown",
      "source": [
        "#### 2. Grab the topics"
      ],
      "metadata": {
        "id": "opK43ove8Fu0"
      }
    },
    {
      "cell_type": "code",
      "source": [
        "len(LDA.components_) # 7 topics"
      ],
      "metadata": {
        "colab": {
          "base_uri": "https://localhost:8080/"
        },
        "id": "YXzcrKHU6hKW",
        "outputId": "974c03c1-d85a-4673-aa14-dd4367288225"
      },
      "execution_count": null,
      "outputs": [
        {
          "output_type": "execute_result",
          "data": {
            "text/plain": [
              "7"
            ]
          },
          "metadata": {},
          "execution_count": 28
        }
      ]
    },
    {
      "cell_type": "code",
      "source": [
        "single_topic = LDA.components_[0]"
      ],
      "metadata": {
        "id": "3b4AqklG6hMl"
      },
      "execution_count": null,
      "outputs": []
    },
    {
      "cell_type": "code",
      "source": [
        "# argsort --> index positions sortef from least --> greatest\n",
        "# top 10 values (10 greatest values)\n",
        "# last 10 values of argort()"
      ],
      "metadata": {
        "id": "Ux45qKm985ZN"
      },
      "execution_count": null,
      "outputs": []
    },
    {
      "cell_type": "code",
      "source": [
        "top_twenty_words = single_topic.argsort()[-20:]"
      ],
      "metadata": {
        "id": "lhcDKHYc85bw"
      },
      "execution_count": null,
      "outputs": []
    },
    {
      "cell_type": "code",
      "source": [
        "for index in top_twenty_words:\n",
        "  print(cv.get_feature_names_out()[index])\n",
        "# The order of importance increases from top to bottom."
      ],
      "metadata": {
        "colab": {
          "base_uri": "https://localhost:8080/"
        },
        "id": "-3lvMPVV85eN",
        "outputId": "3bfdd4d2-af3a-451c-d76f-04d090eb73b2"
      },
      "execution_count": null,
      "outputs": [
        {
          "output_type": "stream",
          "name": "stdout",
          "text": [
            "pregnant\n",
            "answer\n",
            "check\n",
            "great\n",
            "woman\n",
            "watch\n",
            "important\n",
            "join\n",
            "nh\n",
            "coronavirus\n",
            "amp\n",
            "vaccination\n",
            "share\n",
            "video\n",
            "information\n",
            "question\n",
            "dr\n",
            "vaccine\n",
            "covid\n",
            "covidvaccine\n"
          ]
        }
      ]
    },
    {
      "cell_type": "markdown",
      "source": [
        "#### 3. Grab the highest probability words per topic"
      ],
      "metadata": {
        "id": "UxywwLMM_W4_"
      }
    },
    {
      "cell_type": "code",
      "source": [
        "for i, topic in enumerate(LDA.components_):\n",
        "  print(f\"THE TOP 15 WORDS FOR TOPIC #{i}\")\n",
        "  print([cv.get_feature_names_out()[index] for index in topic.argsort()[-15:]])\n",
        "  print(\"\\n\")\n",
        "  print(\"\\n\")"
      ],
      "metadata": {
        "colab": {
          "base_uri": "https://localhost:8080/"
        },
        "id": "re1jQAYD85i0",
        "outputId": "998f92ef-52bd-481a-ddd8-6708d2943b70"
      },
      "execution_count": null,
      "outputs": [
        {
          "output_type": "stream",
          "name": "stdout",
          "text": [
            "THE TOP 15 WORDS FOR TOPIC #0\n",
            "['watch', 'important', 'join', 'nh', 'coronavirus', 'amp', 'vaccination', 'share', 'video', 'information', 'question', 'dr', 'vaccine', 'covid', 'covidvaccine']\n",
            "\n",
            "\n",
            "\n",
            "\n",
            "THE TOP 15 WORDS FOR TOPIC #1\n",
            "['right', 'amp', 'vaccinated', 'getting', 'make', 'need', 'want', 'like', 'know', 'im', 'dont', 'people', 'vaccine', 'covid', 'covidvaccine']\n",
            "\n",
            "\n",
            "\n",
            "\n",
            "THE TOP 15 WORDS FOR TOPIC #2\n",
            "['new', 'day', 'uk', 'health', 'country', 'million', 'case', 'state', 'coronavirus', 'dos', 'india', 'vaccination', 'vaccine', 'covidvaccine', 'covid']\n",
            "\n",
            "\n",
            "\n",
            "\n",
            "THE TOP 15 WORDS FOR TOPIC #3\n",
            "['family', 'worker', 'thanks', 'great', 'getting', 'community', 'mask', 'today', 'thank', 'vaccine', 'people', 'vaccinated', 'covid', 'amp', 'covidvaccine']\n",
            "\n",
            "\n",
            "\n",
            "\n",
            "THE TOP 15 WORDS FOR TOPIC #4\n",
            "['vaxblr', 'bbmp', 'urban', 'rural', 'sputnikv', 'pm', 'bengaluru', 'availability', 'paid', 'covidvaccine', 'covaxin', 'free', 'covishield', 'slot', 'dose']\n",
            "\n",
            "\n",
            "\n",
            "\n",
            "THE TOP 15 WORDS FOR TOPIC #5\n",
            "['second', 'fully', 'effective', 'virus', 'people', 'effect', 'amp', 'moderna', 'got', 'shot', 'pfizer', 'vaccinated', 'vaccine', 'covid', 'covidvaccine']\n",
            "\n",
            "\n",
            "\n",
            "\n",
            "THE TOP 15 WORDS FOR TOPIC #6\n",
            "['pfizer', 'day', 'nd', 'jab', 'got', 'second', 'st', 'week', 'appointment', 'clinic', 'covid', 'vaccination', 'vaccine', 'today', 'covidvaccine']\n",
            "\n",
            "\n",
            "\n",
            "\n"
          ]
        }
      ]
    },
    {
      "cell_type": "code",
      "source": [
        "topic_results = LDA.transform(dtm)"
      ],
      "metadata": {
        "id": "_226sMyW85lO"
      },
      "execution_count": null,
      "outputs": []
    },
    {
      "cell_type": "code",
      "source": [
        "topic_results[0].argmax()"
      ],
      "metadata": {
        "id": "VGHyeeUg85nr",
        "colab": {
          "base_uri": "https://localhost:8080/"
        },
        "outputId": "8de0776a-e5f5-4f49-f53f-cfef66b0e1f1"
      },
      "execution_count": null,
      "outputs": [
        {
          "output_type": "execute_result",
          "data": {
            "text/plain": [
              "1"
            ]
          },
          "metadata": {},
          "execution_count": 35
        }
      ]
    },
    {
      "cell_type": "code",
      "source": [
        "df['topic'] = topic_results.argmax(axis=1)"
      ],
      "metadata": {
        "id": "H4BSfmG785p3"
      },
      "execution_count": null,
      "outputs": []
    },
    {
      "cell_type": "code",
      "source": [
        "df.tail()"
      ],
      "metadata": {
        "id": "Bi0g9DqqBBRx",
        "colab": {
          "base_uri": "https://localhost:8080/",
          "height": 206
        },
        "outputId": "64d10751-c439-42e5-8d3b-7978afbe9bac"
      },
      "execution_count": null,
      "outputs": [
        {
          "output_type": "execute_result",
          "data": {
            "text/plain": [
              "         user_location        date  \\\n",
              "182541  United Kingdom  2021-12-22   \n",
              "182542   United States  2021-12-22   \n",
              "182543  United Kingdom  2021-12-22   \n",
              "182544           India  2021-12-22   \n",
              "182545  United Kingdom  2021-12-22   \n",
              "\n",
              "                                                     text  topic  \n",
              "182541  please let fear needle stop getting coronaviru...      1  \n",
              "182542  great booster today thanks priscilla brilliant...      6  \n",
              "182543      ill first line podcast pandemic covidvaccine       1  \n",
              "182544  narendramodi hold covid review meeting thursda...      2  \n",
              "182545  dont c christmas get jabbed christmas covidvac...      6  "
            ],
            "text/html": [
              "\n",
              "  <div id=\"df-1062da16-b060-44cb-b152-52a7b65bcb63\">\n",
              "    <div class=\"colab-df-container\">\n",
              "      <div>\n",
              "<style scoped>\n",
              "    .dataframe tbody tr th:only-of-type {\n",
              "        vertical-align: middle;\n",
              "    }\n",
              "\n",
              "    .dataframe tbody tr th {\n",
              "        vertical-align: top;\n",
              "    }\n",
              "\n",
              "    .dataframe thead th {\n",
              "        text-align: right;\n",
              "    }\n",
              "</style>\n",
              "<table border=\"1\" class=\"dataframe\">\n",
              "  <thead>\n",
              "    <tr style=\"text-align: right;\">\n",
              "      <th></th>\n",
              "      <th>user_location</th>\n",
              "      <th>date</th>\n",
              "      <th>text</th>\n",
              "      <th>topic</th>\n",
              "    </tr>\n",
              "  </thead>\n",
              "  <tbody>\n",
              "    <tr>\n",
              "      <th>182541</th>\n",
              "      <td>United Kingdom</td>\n",
              "      <td>2021-12-22</td>\n",
              "      <td>please let fear needle stop getting coronaviru...</td>\n",
              "      <td>1</td>\n",
              "    </tr>\n",
              "    <tr>\n",
              "      <th>182542</th>\n",
              "      <td>United States</td>\n",
              "      <td>2021-12-22</td>\n",
              "      <td>great booster today thanks priscilla brilliant...</td>\n",
              "      <td>6</td>\n",
              "    </tr>\n",
              "    <tr>\n",
              "      <th>182543</th>\n",
              "      <td>United Kingdom</td>\n",
              "      <td>2021-12-22</td>\n",
              "      <td>ill first line podcast pandemic covidvaccine</td>\n",
              "      <td>1</td>\n",
              "    </tr>\n",
              "    <tr>\n",
              "      <th>182544</th>\n",
              "      <td>India</td>\n",
              "      <td>2021-12-22</td>\n",
              "      <td>narendramodi hold covid review meeting thursda...</td>\n",
              "      <td>2</td>\n",
              "    </tr>\n",
              "    <tr>\n",
              "      <th>182545</th>\n",
              "      <td>United Kingdom</td>\n",
              "      <td>2021-12-22</td>\n",
              "      <td>dont c christmas get jabbed christmas covidvac...</td>\n",
              "      <td>6</td>\n",
              "    </tr>\n",
              "  </tbody>\n",
              "</table>\n",
              "</div>\n",
              "      <button class=\"colab-df-convert\" onclick=\"convertToInteractive('df-1062da16-b060-44cb-b152-52a7b65bcb63')\"\n",
              "              title=\"Convert this dataframe to an interactive table.\"\n",
              "              style=\"display:none;\">\n",
              "        \n",
              "  <svg xmlns=\"http://www.w3.org/2000/svg\" height=\"24px\"viewBox=\"0 0 24 24\"\n",
              "       width=\"24px\">\n",
              "    <path d=\"M0 0h24v24H0V0z\" fill=\"none\"/>\n",
              "    <path d=\"M18.56 5.44l.94 2.06.94-2.06 2.06-.94-2.06-.94-.94-2.06-.94 2.06-2.06.94zm-11 1L8.5 8.5l.94-2.06 2.06-.94-2.06-.94L8.5 2.5l-.94 2.06-2.06.94zm10 10l.94 2.06.94-2.06 2.06-.94-2.06-.94-.94-2.06-.94 2.06-2.06.94z\"/><path d=\"M17.41 7.96l-1.37-1.37c-.4-.4-.92-.59-1.43-.59-.52 0-1.04.2-1.43.59L10.3 9.45l-7.72 7.72c-.78.78-.78 2.05 0 2.83L4 21.41c.39.39.9.59 1.41.59.51 0 1.02-.2 1.41-.59l7.78-7.78 2.81-2.81c.8-.78.8-2.07 0-2.86zM5.41 20L4 18.59l7.72-7.72 1.47 1.35L5.41 20z\"/>\n",
              "  </svg>\n",
              "      </button>\n",
              "      \n",
              "  <style>\n",
              "    .colab-df-container {\n",
              "      display:flex;\n",
              "      flex-wrap:wrap;\n",
              "      gap: 12px;\n",
              "    }\n",
              "\n",
              "    .colab-df-convert {\n",
              "      background-color: #E8F0FE;\n",
              "      border: none;\n",
              "      border-radius: 50%;\n",
              "      cursor: pointer;\n",
              "      display: none;\n",
              "      fill: #1967D2;\n",
              "      height: 32px;\n",
              "      padding: 0 0 0 0;\n",
              "      width: 32px;\n",
              "    }\n",
              "\n",
              "    .colab-df-convert:hover {\n",
              "      background-color: #E2EBFA;\n",
              "      box-shadow: 0px 1px 2px rgba(60, 64, 67, 0.3), 0px 1px 3px 1px rgba(60, 64, 67, 0.15);\n",
              "      fill: #174EA6;\n",
              "    }\n",
              "\n",
              "    [theme=dark] .colab-df-convert {\n",
              "      background-color: #3B4455;\n",
              "      fill: #D2E3FC;\n",
              "    }\n",
              "\n",
              "    [theme=dark] .colab-df-convert:hover {\n",
              "      background-color: #434B5C;\n",
              "      box-shadow: 0px 1px 3px 1px rgba(0, 0, 0, 0.15);\n",
              "      filter: drop-shadow(0px 1px 2px rgba(0, 0, 0, 0.3));\n",
              "      fill: #FFFFFF;\n",
              "    }\n",
              "  </style>\n",
              "\n",
              "      <script>\n",
              "        const buttonEl =\n",
              "          document.querySelector('#df-1062da16-b060-44cb-b152-52a7b65bcb63 button.colab-df-convert');\n",
              "        buttonEl.style.display =\n",
              "          google.colab.kernel.accessAllowed ? 'block' : 'none';\n",
              "\n",
              "        async function convertToInteractive(key) {\n",
              "          const element = document.querySelector('#df-1062da16-b060-44cb-b152-52a7b65bcb63');\n",
              "          const dataTable =\n",
              "            await google.colab.kernel.invokeFunction('convertToInteractive',\n",
              "                                                     [key], {});\n",
              "          if (!dataTable) return;\n",
              "\n",
              "          const docLinkHtml = 'Like what you see? Visit the ' +\n",
              "            '<a target=\"_blank\" href=https://colab.research.google.com/notebooks/data_table.ipynb>data table notebook</a>'\n",
              "            + ' to learn more about interactive tables.';\n",
              "          element.innerHTML = '';\n",
              "          dataTable['output_type'] = 'display_data';\n",
              "          await google.colab.output.renderOutput(dataTable, element);\n",
              "          const docLink = document.createElement('div');\n",
              "          docLink.innerHTML = docLinkHtml;\n",
              "          element.appendChild(docLink);\n",
              "        }\n",
              "      </script>\n",
              "    </div>\n",
              "  </div>\n",
              "  "
            ]
          },
          "metadata": {},
          "execution_count": 41
        }
      ]
    }
  ]
}